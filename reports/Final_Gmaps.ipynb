{
 "cells": [
  {
   "cell_type": "markdown",
   "metadata": {},
   "source": [
    "# Gmaps Visualization"
   ]
  },
  {
   "cell_type": "markdown",
   "metadata": {},
   "source": [
    "### Imports"
   ]
  },
  {
   "cell_type": "code",
   "execution_count": 2,
   "metadata": {},
   "outputs": [],
   "source": [
    "#imports \n",
    "import json\n",
    "import requests\n",
    "import pandas as pd\n",
    "import matplotlib as plt\n",
    "import random\n",
    "import pprint as pprint\n",
    "import gmaps\n",
    "import gmaps.datasets"
   ]
  },
  {
   "cell_type": "markdown",
   "metadata": {},
   "source": [
    "### Config key to connect to gmaps API"
   ]
  },
  {
   "cell_type": "code",
   "execution_count": 3,
   "metadata": {},
   "outputs": [],
   "source": [
    "# Remember to update the config file with your API key\n",
    "from config import gkey"
   ]
  },
  {
   "cell_type": "markdown",
   "metadata": {},
   "source": [
    "### Folder path variables"
   ]
  },
  {
   "cell_type": "code",
   "execution_count": 4,
   "metadata": {},
   "outputs": [],
   "source": [
    "# cleaned data file to be saved\n",
    "cleanData = \"../data/cleanData/master_clean_data.csv\"\n",
    "gMapJobPost = \"../data/cleanViz/master_total_job_posting.csv\"\n",
    "# path csv file location\n",
    "pathCleanData =\"../datacleanData/\""
   ]
  },
  {
   "cell_type": "markdown",
   "metadata": {},
   "source": [
    "### Calling the csv cleanData folder"
   ]
  },
  {
   "cell_type": "code",
   "execution_count": 5,
   "metadata": {},
   "outputs": [
    {
     "data": {
      "text/html": [
       "<div>\n",
       "<style scoped>\n",
       "    .dataframe tbody tr th:only-of-type {\n",
       "        vertical-align: middle;\n",
       "    }\n",
       "\n",
       "    .dataframe tbody tr th {\n",
       "        vertical-align: top;\n",
       "    }\n",
       "\n",
       "    .dataframe thead th {\n",
       "        text-align: right;\n",
       "    }\n",
       "</style>\n",
       "<table border=\"1\" class=\"dataframe\">\n",
       "  <thead>\n",
       "    <tr style=\"text-align: right;\">\n",
       "      <th></th>\n",
       "      <th>job posting id</th>\n",
       "      <th>job title</th>\n",
       "      <th>date created</th>\n",
       "      <th>category</th>\n",
       "      <th>company name</th>\n",
       "      <th>city</th>\n",
       "      <th>state</th>\n",
       "      <th>country</th>\n",
       "      <th>lat</th>\n",
       "      <th>lng</th>\n",
       "      <th>latlng</th>\n",
       "    </tr>\n",
       "  </thead>\n",
       "  <tbody>\n",
       "    <tr>\n",
       "      <th>0</th>\n",
       "      <td>1312805843</td>\n",
       "      <td>Physician: Core Faculty Family Medicine Job in...</td>\n",
       "      <td>2019-10-25 12:38:55</td>\n",
       "      <td>Healthcare &amp; Nursing Jobs</td>\n",
       "      <td>CompHealth</td>\n",
       "      <td>Indiana</td>\n",
       "      <td>Pennsylvania</td>\n",
       "      <td>United States</td>\n",
       "      <td>40.621455</td>\n",
       "      <td>-79.152535</td>\n",
       "      <td>40.621455,-79.152535</td>\n",
       "    </tr>\n",
       "    <tr>\n",
       "      <th>1</th>\n",
       "      <td>1312804908</td>\n",
       "      <td>Physician: Associate Regional Medical Officer ...</td>\n",
       "      <td>2019-10-25 12:38:30</td>\n",
       "      <td>Healthcare &amp; Nursing Jobs</td>\n",
       "      <td>CompHealth</td>\n",
       "      <td>San Jose</td>\n",
       "      <td>California</td>\n",
       "      <td>United States</td>\n",
       "      <td>37.390494</td>\n",
       "      <td>-121.885434</td>\n",
       "      <td>37.390494,-121.885434</td>\n",
       "    </tr>\n",
       "    <tr>\n",
       "      <th>2</th>\n",
       "      <td>1312806070</td>\n",
       "      <td>Physician: Child and Adolescent Psychiatry Pos...</td>\n",
       "      <td>2019-10-25 12:39:00</td>\n",
       "      <td>Healthcare &amp; Nursing Jobs</td>\n",
       "      <td>CompHealth</td>\n",
       "      <td>Norwich</td>\n",
       "      <td>New York</td>\n",
       "      <td>United States</td>\n",
       "      <td>42.522869</td>\n",
       "      <td>-75.574677</td>\n",
       "      <td>42.522869,-75.57467700000002</td>\n",
       "    </tr>\n",
       "    <tr>\n",
       "      <th>3</th>\n",
       "      <td>1328242120</td>\n",
       "      <td>Physician: Anesthesiology Medical Director Job...</td>\n",
       "      <td>2019-11-06 20:28:24</td>\n",
       "      <td>Healthcare &amp; Nursing Jobs</td>\n",
       "      <td>CompHealth</td>\n",
       "      <td>Dunkirk</td>\n",
       "      <td>New York</td>\n",
       "      <td>United States</td>\n",
       "      <td>42.479502</td>\n",
       "      <td>-79.333932</td>\n",
       "      <td>42.479502000000004,-79.33393199999998</td>\n",
       "    </tr>\n",
       "    <tr>\n",
       "      <th>4</th>\n",
       "      <td>1328242475</td>\n",
       "      <td>Physician: General Anesthesia Position North o...</td>\n",
       "      <td>2019-11-06 20:29:07</td>\n",
       "      <td>Healthcare &amp; Nursing Jobs</td>\n",
       "      <td>CompHealth</td>\n",
       "      <td>Kittanning</td>\n",
       "      <td>Pennsylvania</td>\n",
       "      <td>United States</td>\n",
       "      <td>40.816453</td>\n",
       "      <td>-79.521989</td>\n",
       "      <td>40.816453,-79.521989</td>\n",
       "    </tr>\n",
       "  </tbody>\n",
       "</table>\n",
       "</div>"
      ],
      "text/plain": [
       "   job posting id                                          job title  \\\n",
       "0      1312805843  Physician: Core Faculty Family Medicine Job in...   \n",
       "1      1312804908  Physician: Associate Regional Medical Officer ...   \n",
       "2      1312806070  Physician: Child and Adolescent Psychiatry Pos...   \n",
       "3      1328242120  Physician: Anesthesiology Medical Director Job...   \n",
       "4      1328242475  Physician: General Anesthesia Position North o...   \n",
       "\n",
       "          date created                   category company name        city  \\\n",
       "0  2019-10-25 12:38:55  Healthcare & Nursing Jobs   CompHealth     Indiana   \n",
       "1  2019-10-25 12:38:30  Healthcare & Nursing Jobs   CompHealth    San Jose   \n",
       "2  2019-10-25 12:39:00  Healthcare & Nursing Jobs   CompHealth     Norwich   \n",
       "3  2019-11-06 20:28:24  Healthcare & Nursing Jobs   CompHealth     Dunkirk   \n",
       "4  2019-11-06 20:29:07  Healthcare & Nursing Jobs   CompHealth  Kittanning   \n",
       "\n",
       "          state        country        lat         lng  \\\n",
       "0  Pennsylvania  United States  40.621455  -79.152535   \n",
       "1    California  United States  37.390494 -121.885434   \n",
       "2      New York  United States  42.522869  -75.574677   \n",
       "3      New York  United States  42.479502  -79.333932   \n",
       "4  Pennsylvania  United States  40.816453  -79.521989   \n",
       "\n",
       "                                  latlng  \n",
       "0                   40.621455,-79.152535  \n",
       "1                  37.390494,-121.885434  \n",
       "2           42.522869,-75.57467700000002  \n",
       "3  42.479502000000004,-79.33393199999998  \n",
       "4                   40.816453,-79.521989  "
      ]
     },
     "execution_count": 5,
     "metadata": {},
     "output_type": "execute_result"
    }
   ],
   "source": [
    "#calling the csv cleanData folder\n",
    "cleansed_data_df = pd.read_csv(cleanData)\n",
    "cleansed_data_df.head()"
   ]
  },
  {
   "cell_type": "markdown",
   "metadata": {},
   "source": [
    "### Lowercase the columns names"
   ]
  },
  {
   "cell_type": "code",
   "execution_count": 5,
   "metadata": {},
   "outputs": [
    {
     "data": {
      "text/html": [
       "<div>\n",
       "<style scoped>\n",
       "    .dataframe tbody tr th:only-of-type {\n",
       "        vertical-align: middle;\n",
       "    }\n",
       "\n",
       "    .dataframe tbody tr th {\n",
       "        vertical-align: top;\n",
       "    }\n",
       "\n",
       "    .dataframe thead th {\n",
       "        text-align: right;\n",
       "    }\n",
       "</style>\n",
       "<table border=\"1\" class=\"dataframe\">\n",
       "  <thead>\n",
       "    <tr style=\"text-align: right;\">\n",
       "      <th></th>\n",
       "      <th>job posting id</th>\n",
       "      <th>job title</th>\n",
       "      <th>date created</th>\n",
       "      <th>category</th>\n",
       "      <th>company name</th>\n",
       "      <th>city</th>\n",
       "      <th>state</th>\n",
       "      <th>country</th>\n",
       "      <th>lat</th>\n",
       "      <th>lng</th>\n",
       "      <th>latlng</th>\n",
       "    </tr>\n",
       "  </thead>\n",
       "  <tbody>\n",
       "    <tr>\n",
       "      <th>0</th>\n",
       "      <td>1312805843</td>\n",
       "      <td>Physician: Core Faculty Family Medicine Job in...</td>\n",
       "      <td>2019-10-25 12:38:55</td>\n",
       "      <td>Healthcare &amp; Nursing Jobs</td>\n",
       "      <td>CompHealth</td>\n",
       "      <td>Indiana</td>\n",
       "      <td>Pennsylvania</td>\n",
       "      <td>United States</td>\n",
       "      <td>40.621455</td>\n",
       "      <td>-79.152535</td>\n",
       "      <td>40.621455,-79.152535</td>\n",
       "    </tr>\n",
       "    <tr>\n",
       "      <th>1</th>\n",
       "      <td>1312804908</td>\n",
       "      <td>Physician: Associate Regional Medical Officer ...</td>\n",
       "      <td>2019-10-25 12:38:30</td>\n",
       "      <td>Healthcare &amp; Nursing Jobs</td>\n",
       "      <td>CompHealth</td>\n",
       "      <td>San Jose</td>\n",
       "      <td>California</td>\n",
       "      <td>United States</td>\n",
       "      <td>37.390494</td>\n",
       "      <td>-121.885434</td>\n",
       "      <td>37.390494,-121.885434</td>\n",
       "    </tr>\n",
       "    <tr>\n",
       "      <th>2</th>\n",
       "      <td>1312806070</td>\n",
       "      <td>Physician: Child and Adolescent Psychiatry Pos...</td>\n",
       "      <td>2019-10-25 12:39:00</td>\n",
       "      <td>Healthcare &amp; Nursing Jobs</td>\n",
       "      <td>CompHealth</td>\n",
       "      <td>Norwich</td>\n",
       "      <td>New York</td>\n",
       "      <td>United States</td>\n",
       "      <td>42.522869</td>\n",
       "      <td>-75.574677</td>\n",
       "      <td>42.522869,-75.57467700000002</td>\n",
       "    </tr>\n",
       "    <tr>\n",
       "      <th>3</th>\n",
       "      <td>1328242120</td>\n",
       "      <td>Physician: Anesthesiology Medical Director Job...</td>\n",
       "      <td>2019-11-06 20:28:24</td>\n",
       "      <td>Healthcare &amp; Nursing Jobs</td>\n",
       "      <td>CompHealth</td>\n",
       "      <td>Dunkirk</td>\n",
       "      <td>New York</td>\n",
       "      <td>United States</td>\n",
       "      <td>42.479502</td>\n",
       "      <td>-79.333932</td>\n",
       "      <td>42.479502000000004,-79.33393199999998</td>\n",
       "    </tr>\n",
       "    <tr>\n",
       "      <th>4</th>\n",
       "      <td>1328242475</td>\n",
       "      <td>Physician: General Anesthesia Position North o...</td>\n",
       "      <td>2019-11-06 20:29:07</td>\n",
       "      <td>Healthcare &amp; Nursing Jobs</td>\n",
       "      <td>CompHealth</td>\n",
       "      <td>Kittanning</td>\n",
       "      <td>Pennsylvania</td>\n",
       "      <td>United States</td>\n",
       "      <td>40.816453</td>\n",
       "      <td>-79.521989</td>\n",
       "      <td>40.816453,-79.521989</td>\n",
       "    </tr>\n",
       "  </tbody>\n",
       "</table>\n",
       "</div>"
      ],
      "text/plain": [
       "   job posting id                                          job title  \\\n",
       "0      1312805843  Physician: Core Faculty Family Medicine Job in...   \n",
       "1      1312804908  Physician: Associate Regional Medical Officer ...   \n",
       "2      1312806070  Physician: Child and Adolescent Psychiatry Pos...   \n",
       "3      1328242120  Physician: Anesthesiology Medical Director Job...   \n",
       "4      1328242475  Physician: General Anesthesia Position North o...   \n",
       "\n",
       "          date created                   category company name        city  \\\n",
       "0  2019-10-25 12:38:55  Healthcare & Nursing Jobs   CompHealth     Indiana   \n",
       "1  2019-10-25 12:38:30  Healthcare & Nursing Jobs   CompHealth    San Jose   \n",
       "2  2019-10-25 12:39:00  Healthcare & Nursing Jobs   CompHealth     Norwich   \n",
       "3  2019-11-06 20:28:24  Healthcare & Nursing Jobs   CompHealth     Dunkirk   \n",
       "4  2019-11-06 20:29:07  Healthcare & Nursing Jobs   CompHealth  Kittanning   \n",
       "\n",
       "          state        country        lat         lng  \\\n",
       "0  Pennsylvania  United States  40.621455  -79.152535   \n",
       "1    California  United States  37.390494 -121.885434   \n",
       "2      New York  United States  42.522869  -75.574677   \n",
       "3      New York  United States  42.479502  -79.333932   \n",
       "4  Pennsylvania  United States  40.816453  -79.521989   \n",
       "\n",
       "                                  latlng  \n",
       "0                   40.621455,-79.152535  \n",
       "1                  37.390494,-121.885434  \n",
       "2           42.522869,-75.57467700000002  \n",
       "3  42.479502000000004,-79.33393199999998  \n",
       "4                   40.816453,-79.521989  "
      ]
     },
     "execution_count": 5,
     "metadata": {},
     "output_type": "execute_result"
    }
   ],
   "source": [
    "#Lowercase all column names \n",
    "cleansed_data_df.columns = map(str.lower, cleansed_data_df.columns)\n",
    "cleansed_data_df.head()"
   ]
  },
  {
   "cell_type": "markdown",
   "metadata": {},
   "source": [
    "### Set the index to job posting id"
   ]
  },
  {
   "cell_type": "code",
   "execution_count": 6,
   "metadata": {},
   "outputs": [
    {
     "data": {
      "text/html": [
       "<div>\n",
       "<style scoped>\n",
       "    .dataframe tbody tr th:only-of-type {\n",
       "        vertical-align: middle;\n",
       "    }\n",
       "\n",
       "    .dataframe tbody tr th {\n",
       "        vertical-align: top;\n",
       "    }\n",
       "\n",
       "    .dataframe thead th {\n",
       "        text-align: right;\n",
       "    }\n",
       "</style>\n",
       "<table border=\"1\" class=\"dataframe\">\n",
       "  <thead>\n",
       "    <tr style=\"text-align: right;\">\n",
       "      <th></th>\n",
       "      <th>job title</th>\n",
       "      <th>date created</th>\n",
       "      <th>category</th>\n",
       "      <th>company name</th>\n",
       "      <th>city</th>\n",
       "      <th>state</th>\n",
       "      <th>country</th>\n",
       "      <th>lat</th>\n",
       "      <th>lng</th>\n",
       "      <th>latlng</th>\n",
       "    </tr>\n",
       "    <tr>\n",
       "      <th>job posting id</th>\n",
       "      <th></th>\n",
       "      <th></th>\n",
       "      <th></th>\n",
       "      <th></th>\n",
       "      <th></th>\n",
       "      <th></th>\n",
       "      <th></th>\n",
       "      <th></th>\n",
       "      <th></th>\n",
       "      <th></th>\n",
       "    </tr>\n",
       "  </thead>\n",
       "  <tbody>\n",
       "    <tr>\n",
       "      <th>1312805843</th>\n",
       "      <td>Physician: Core Faculty Family Medicine Job in...</td>\n",
       "      <td>2019-10-25 12:38:55</td>\n",
       "      <td>Healthcare &amp; Nursing Jobs</td>\n",
       "      <td>CompHealth</td>\n",
       "      <td>Indiana</td>\n",
       "      <td>Pennsylvania</td>\n",
       "      <td>United States</td>\n",
       "      <td>40.621455</td>\n",
       "      <td>-79.152535</td>\n",
       "      <td>40.621455,-79.152535</td>\n",
       "    </tr>\n",
       "    <tr>\n",
       "      <th>1312804908</th>\n",
       "      <td>Physician: Associate Regional Medical Officer ...</td>\n",
       "      <td>2019-10-25 12:38:30</td>\n",
       "      <td>Healthcare &amp; Nursing Jobs</td>\n",
       "      <td>CompHealth</td>\n",
       "      <td>San Jose</td>\n",
       "      <td>California</td>\n",
       "      <td>United States</td>\n",
       "      <td>37.390494</td>\n",
       "      <td>-121.885434</td>\n",
       "      <td>37.390494,-121.885434</td>\n",
       "    </tr>\n",
       "    <tr>\n",
       "      <th>1312806070</th>\n",
       "      <td>Physician: Child and Adolescent Psychiatry Pos...</td>\n",
       "      <td>2019-10-25 12:39:00</td>\n",
       "      <td>Healthcare &amp; Nursing Jobs</td>\n",
       "      <td>CompHealth</td>\n",
       "      <td>Norwich</td>\n",
       "      <td>New York</td>\n",
       "      <td>United States</td>\n",
       "      <td>42.522869</td>\n",
       "      <td>-75.574677</td>\n",
       "      <td>42.522869,-75.57467700000002</td>\n",
       "    </tr>\n",
       "    <tr>\n",
       "      <th>1328242120</th>\n",
       "      <td>Physician: Anesthesiology Medical Director Job...</td>\n",
       "      <td>2019-11-06 20:28:24</td>\n",
       "      <td>Healthcare &amp; Nursing Jobs</td>\n",
       "      <td>CompHealth</td>\n",
       "      <td>Dunkirk</td>\n",
       "      <td>New York</td>\n",
       "      <td>United States</td>\n",
       "      <td>42.479502</td>\n",
       "      <td>-79.333932</td>\n",
       "      <td>42.479502000000004,-79.33393199999998</td>\n",
       "    </tr>\n",
       "    <tr>\n",
       "      <th>1328242475</th>\n",
       "      <td>Physician: General Anesthesia Position North o...</td>\n",
       "      <td>2019-11-06 20:29:07</td>\n",
       "      <td>Healthcare &amp; Nursing Jobs</td>\n",
       "      <td>CompHealth</td>\n",
       "      <td>Kittanning</td>\n",
       "      <td>Pennsylvania</td>\n",
       "      <td>United States</td>\n",
       "      <td>40.816453</td>\n",
       "      <td>-79.521989</td>\n",
       "      <td>40.816453,-79.521989</td>\n",
       "    </tr>\n",
       "  </tbody>\n",
       "</table>\n",
       "</div>"
      ],
      "text/plain": [
       "                                                        job title  \\\n",
       "job posting id                                                      \n",
       "1312805843      Physician: Core Faculty Family Medicine Job in...   \n",
       "1312804908      Physician: Associate Regional Medical Officer ...   \n",
       "1312806070      Physician: Child and Adolescent Psychiatry Pos...   \n",
       "1328242120      Physician: Anesthesiology Medical Director Job...   \n",
       "1328242475      Physician: General Anesthesia Position North o...   \n",
       "\n",
       "                       date created                   category company name  \\\n",
       "job posting id                                                                \n",
       "1312805843      2019-10-25 12:38:55  Healthcare & Nursing Jobs   CompHealth   \n",
       "1312804908      2019-10-25 12:38:30  Healthcare & Nursing Jobs   CompHealth   \n",
       "1312806070      2019-10-25 12:39:00  Healthcare & Nursing Jobs   CompHealth   \n",
       "1328242120      2019-11-06 20:28:24  Healthcare & Nursing Jobs   CompHealth   \n",
       "1328242475      2019-11-06 20:29:07  Healthcare & Nursing Jobs   CompHealth   \n",
       "\n",
       "                      city         state        country        lat  \\\n",
       "job posting id                                                       \n",
       "1312805843         Indiana  Pennsylvania  United States  40.621455   \n",
       "1312804908        San Jose    California  United States  37.390494   \n",
       "1312806070         Norwich      New York  United States  42.522869   \n",
       "1328242120         Dunkirk      New York  United States  42.479502   \n",
       "1328242475      Kittanning  Pennsylvania  United States  40.816453   \n",
       "\n",
       "                       lng                                 latlng  \n",
       "job posting id                                                     \n",
       "1312805843      -79.152535                   40.621455,-79.152535  \n",
       "1312804908     -121.885434                  37.390494,-121.885434  \n",
       "1312806070      -75.574677           42.522869,-75.57467700000002  \n",
       "1328242120      -79.333932  42.479502000000004,-79.33393199999998  \n",
       "1328242475      -79.521989                   40.816453,-79.521989  "
      ]
     },
     "execution_count": 6,
     "metadata": {},
     "output_type": "execute_result"
    }
   ],
   "source": [
    "#Set job posting id as index\n",
    "cleansed_data = cleansed_data_df.set_index('job posting id')\n",
    "cleansed_data.head()"
   ]
  },
  {
   "cell_type": "markdown",
   "metadata": {},
   "source": [
    "### Calling Gmaps API and  Key"
   ]
  },
  {
   "cell_type": "code",
   "execution_count": null,
   "metadata": {},
   "outputs": [],
   "source": [
    "#Calling Gmaps key\n",
    "gmaps.configure(api_key= gkey) # Fill in with your API key\n",
    "cleansed_data_copy = cleansed_data.copy()\n"
   ]
  },
  {
   "cell_type": "markdown",
   "metadata": {},
   "source": [
    "### Making a copy of the file"
   ]
  },
  {
   "cell_type": "code",
   "execution_count": 7,
   "metadata": {},
   "outputs": [],
   "source": [
    "cleansed_data_copy = cleansed_data.copy()"
   ]
  },
  {
   "cell_type": "markdown",
   "metadata": {},
   "source": [
    "### Gmaps: All Job Postings in US"
   ]
  },
  {
   "cell_type": "code",
   "execution_count": null,
   "metadata": {},
   "outputs": [],
   "source": [
    "#Gmaps testing\n",
    "locations = cleansed_data_copy[['lat', 'lng']]\n",
    "fig = gmaps.figure(map_type='TERRAIN')\n",
    "\n",
    "\n",
    "\n",
    "locations_layer = gmaps.symbol_layer(\n",
    "    locations, fill_color='blue', stroke_color='blue', scale=1)\n",
    "fig = gmaps.figure()\n",
    "fig.add_layer(locations_layer)\n",
    "fig\n"
   ]
  },
  {
   "cell_type": "markdown",
   "metadata": {},
   "source": [
    "## Job posting within the top state"
   ]
  },
  {
   "cell_type": "markdown",
   "metadata": {},
   "source": [
    "#### Finding the most job postings within a state"
   ]
  },
  {
   "cell_type": "code",
   "execution_count": null,
   "metadata": {},
   "outputs": [],
   "source": [
    "#cleansed_data_copy[cleansed_data_copy.country == 'United States']\n",
    "\n",
    "top_state = cleansed_data_copy.groupby(['state'])\n",
    "top_state = top_state['job title']\n",
    "top_state = top_state.count().idxmax()\n",
    "\n",
    "top_state"
   ]
  },
  {
   "cell_type": "markdown",
   "metadata": {},
   "source": [
    "#### filter the data frame using the top state variable and get the lat and long for total job posting there"
   ]
  },
  {
   "cell_type": "code",
   "execution_count": null,
   "metadata": {},
   "outputs": [],
   "source": [
    "tope_state_data = cleansed_data_copy[cleansed_data_copy.state == top_state]\n",
    "tope_state_data.head(3)\n"
   ]
  },
  {
   "cell_type": "markdown",
   "metadata": {},
   "source": [
    "### Gmaps: Top state job postings"
   ]
  },
  {
   "cell_type": "code",
   "execution_count": 71,
   "metadata": {},
   "outputs": [
    {
     "data": {
      "application/vnd.jupyter.widget-view+json": {
       "model_id": "dfcb6e99d3c8484b92600274fced3c97",
       "version_major": 2,
       "version_minor": 0
      },
      "text/plain": [
       "Figure(layout=FigureLayout(height='420px'))"
      ]
     },
     "metadata": {},
     "output_type": "display_data"
    }
   ],
   "source": [
    "#Gmaps testing\n",
    "locations = tope_state_data[['lat', 'lng']]\n",
    "fig = gmaps.figure(map_type='TERRAIN')\n",
    "\n",
    "\n",
    "\n",
    "locations_layer = gmaps.symbol_layer(\n",
    "    locations, fill_color='blue', stroke_color='blue', scale=1)\n",
    "fig = gmaps.figure()\n",
    "fig.add_layer(locations_layer)\n",
    "fig"
   ]
  },
  {
   "cell_type": "markdown",
   "metadata": {},
   "source": [
    "### Unique categoryies in a list"
   ]
  },
  {
   "cell_type": "code",
   "execution_count": 9,
   "metadata": {},
   "outputs": [
    {
     "name": "stdout",
     "output_type": "stream",
     "text": [
      "Healthcare & Nursing Jobs\n",
      "Other/General Jobs\n",
      "Retail Jobs\n",
      "Logistics & Warehouse Jobs\n",
      "Customer Services Jobs\n",
      "Sales Jobs\n",
      "Hospitality & Catering Jobs\n",
      "Manufacturing Jobs\n",
      "Admin Jobs\n",
      "Accounting & Finance Jobs\n",
      "Engineering Jobs\n",
      "IT Jobs\n",
      "Teaching Jobs\n",
      "Legal Jobs\n",
      "Maintenance Jobs\n",
      "Part time Jobs\n",
      "PR, Advertising & Marketing Jobs\n",
      "Trade & Construction Jobs\n",
      "Creative & Design Jobs\n",
      "Consultancy Jobs\n",
      "HR & Recruitment Jobs\n",
      "Property Jobs\n",
      "Scientific & QA Jobs\n",
      "Energy, Oil & Gas Jobs\n",
      "Domestic help & Cleaning Jobs\n",
      "Social work Jobs\n",
      "Travel Jobs\n",
      "Graduate Jobs\n",
      "Charity & Voluntary Jobs\n"
     ]
    }
   ],
   "source": [
    "for i in range(len(cat_unique)):\n",
    "    print(cat_unique[i])"
   ]
  },
  {
   "cell_type": "markdown",
   "metadata": {},
   "source": [
    "### Gmaps: Total job postings per category"
   ]
  },
  {
   "cell_type": "code",
   "execution_count": 141,
   "metadata": {},
   "outputs": [
    {
     "data": {
      "application/vnd.jupyter.widget-view+json": {
       "model_id": "a9c84afb2483411ebb0f6c8f8b07c445",
       "version_major": 2,
       "version_minor": 0
      },
      "text/plain": [
       "Figure(layout=FigureLayout(height='420px'))"
      ]
     },
     "metadata": {},
     "output_type": "display_data"
    }
   ],
   "source": [
    "#Creating for loop to itterate over the gmaps to create multiple layers\n",
    "j = -1\n",
    "for i in range(len(cat_unique)):\n",
    "    df = pd.DataFrame()\n",
    "    df = cleansed_data_copy[cleansed_data_copy['category'] == cat_unique[i]]\n",
    "    df = df[['lat', 'lng']]\n",
    "    \n",
    "    #if statement to append to a datafram variable\n",
    "    if i != j:\n",
    "        j = i\n",
    "        globals()['df_%s' % i] = pd.DataFrame()\n",
    "        globals()['df_%s' % i] = globals()['df_%s' % i].append(df)\n",
    "        \n",
    "#defining colors\n",
    "colors  = [\"red\",\"green\",\"blue\",\"purple\",\"yellow\",\"white\",\"black\"]\n",
    "\n",
    "#itterating over layer\n",
    "for i in range(len(cat_unique)):\n",
    "    color = random.choice(colors)\n",
    "    globals()['df_layer%s' % i] = gmaps.symbol_layer(\n",
    "    globals()['df_%s' % i], fill_color = str(color) ,stroke_color = str(color), scale=1)\n",
    "    \n",
    "fig = gmaps.figure()\n",
    "\n",
    "for i in range(len(cat_unique)):\n",
    "    fig.add_layer(globals()['df_layer%s' % i])\n",
    "    \n",
    "fig"
   ]
  }
 ],
 "metadata": {
  "kernelspec": {
   "display_name": "Python 3",
   "language": "python",
   "name": "python3"
  },
  "language_info": {
   "codemirror_mode": {
    "name": "ipython",
    "version": 3
   },
   "file_extension": ".py",
   "mimetype": "text/x-python",
   "name": "python",
   "nbconvert_exporter": "python",
   "pygments_lexer": "ipython3",
   "version": "3.7.4"
  }
 },
 "nbformat": 4,
 "nbformat_minor": 2
}
