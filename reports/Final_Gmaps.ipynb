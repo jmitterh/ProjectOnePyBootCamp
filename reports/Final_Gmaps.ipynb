{
 "cells": [
  {
   "cell_type": "code",
   "execution_count": 1,
   "metadata": {},
   "outputs": [],
   "source": [
    "#imports \n",
    "import json\n",
    "import requests\n",
    "import pandas as pd\n",
    "import matplotlib as plt\n",
    "import pprint as pprint\n",
    "import gmaps\n",
    "import gmaps.datasets"
   ]
  },
  {
   "cell_type": "code",
   "execution_count": 2,
   "metadata": {},
   "outputs": [],
   "source": [
    "# Remember to update the config file with your API key\n",
    "from config import gkey"
   ]
  },
  {
   "cell_type": "code",
   "execution_count": null,
   "metadata": {},
   "outputs": [],
   "source": [
    "# cleaned data file to be saved\n",
    "cleanData = \"../data/cleanData/master_clean_data.csv\"\n",
    "\n",
    "# path csv file location\n",
    "pathCleanData =\"../datacleanData/\""
   ]
  },
  {
   "cell_type": "code",
   "execution_count": null,
   "metadata": {},
   "outputs": [],
   "source": [
    "#Calling Gmaps key\n",
    "gmaps.configure(api_key= gkey) # Fill in with your API key\n",
    "clean_csv_file_copy = clean_csv_file.copy()\n",
    "\n",
    "#defining rows\n",
    "lat = clean_csv_file_copy['Lat']\n",
    "lng = clean_csv_file_copy['Lng']\n",
    "cat = clean_csv_file_copy['Job Posting ID']\n",
    "\n",
    "#Turning int to float for testing\n",
    "cat = cat.astype('float')"
   ]
  },
  {
   "cell_type": "code",
   "execution_count": null,
   "metadata": {},
   "outputs": [],
   "source": [
    "#Gmaps testing\n",
    "locations = clean_csv_file_copy[['Lat', 'Lng']]\n",
    "fig = gmaps.figure(map_type='TERRAIN')\n",
    "\n",
    "\n",
    "\n",
    "locations_layer = gmaps.symbol_layer(\n",
    "    locations, fill_color='red', stroke_color='green', scale=1\n",
    ")\n",
    "fig = gmaps.figure()\n",
    "fig.add_layer(locations_layer)\n",
    "fig"
   ]
  },
  {
   "cell_type": "code",
   "execution_count": null,
   "metadata": {},
   "outputs": [],
   "source": [
    "#Geting unique values\n",
    "charr = clean_csv_file_copy['Category'].unique()\n",
    "charr"
   ]
  },
  {
   "cell_type": "code",
   "execution_count": null,
   "metadata": {},
   "outputs": [],
   "source": [
    "#categorizing category to display on map layter\n",
    "index_cat = clean_csv_file_copy.set_index(['Category'])\n",
    "cat = index_cat.loc[\"Sales Jobs\"] \n",
    "healthcare = cat[['Lat', 'Lng']]\n",
    "healthcare\n",
    "\n",
    "# for c in range(len(charr)):\n",
    "#     flag = index_cat.loc[c]\n",
    "#     arm = flag[['Lat','Lng']]\n",
    "    \n",
    "#clean_csv_file_copy"
   ]
  }
 ],
 "metadata": {
  "kernelspec": {
   "display_name": "Python 3",
   "language": "python",
   "name": "python3"
  },
  "language_info": {
   "codemirror_mode": {
    "name": "ipython",
    "version": 3
   },
   "file_extension": ".py",
   "mimetype": "text/x-python",
   "name": "python",
   "nbconvert_exporter": "python",
   "pygments_lexer": "ipython3",
   "version": "3.7.3"
  }
 },
 "nbformat": 4,
 "nbformat_minor": 2
}
