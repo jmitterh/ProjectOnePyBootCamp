{
 "cells": [
  {
   "cell_type": "markdown",
   "metadata": {},
   "source": [
    "# Connecting to Opencage API\n",
    "* creating a CSV to get the cities Lat and Long"
   ]
  },
  {
   "cell_type": "code",
   "execution_count": 1,
   "metadata": {},
   "outputs": [],
   "source": [
    "#imports \n",
    "import json\n",
    "import requests\n",
    "import pandas as pd\n",
    "import numpy as np\n",
    "from opencage.geocoder import OpenCageGeocode"
   ]
  },
  {
   "cell_type": "markdown",
   "metadata": {},
   "source": [
    "### Key stored in config file to reference"
   ]
  },
  {
   "cell_type": "code",
   "execution_count": null,
   "metadata": {},
   "outputs": [],
   "source": [
    "from config import geokey"
   ]
  },
  {
   "cell_type": "markdown",
   "metadata": {},
   "source": [
    "### CSV file path variables"
   ]
  },
  {
   "cell_type": "code",
   "execution_count": 3,
   "metadata": {},
   "outputs": [],
   "source": [
    "# cleaned data file to be saved\n",
    "cleanData = \"../data/cleanData/jp_clean_data.csv\"\n",
    "cityData = \"../data/cleanData/jp_city_data.csv\"\n",
    "\n",
    "# path csv file location\n",
    "pathCleanData =\"../datacleanData/\""
   ]
  },
  {
   "cell_type": "markdown",
   "metadata": {},
   "source": [
    "#### Connecting to Opencage API using key"
   ]
  },
  {
   "cell_type": "code",
   "execution_count": null,
   "metadata": {},
   "outputs": [],
   "source": [
    "#Connecting to Opencage API to get the lat and lng of cities\n",
    "key = geokey  # get api key from:  https://opencagedata.com\n",
    "\n",
    "#url and key combined\n",
    "geocoder = OpenCageGeocode(key)"
   ]
  },
  {
   "cell_type": "markdown",
   "metadata": {},
   "source": [
    "#### Pulling clean data to use"
   ]
  },
  {
   "cell_type": "code",
   "execution_count": null,
   "metadata": {},
   "outputs": [],
   "source": [
    "#Pull clean data\n",
    "#calling the csv cleanData folder\n",
    "cleansed_data_df = pd.read_csv(cleanData)\n",
    "cleansed_data_df.head(3)"
   ]
  },
  {
   "cell_type": "markdown",
   "metadata": {},
   "source": [
    "#### Lowercasing the columns names"
   ]
  },
  {
   "cell_type": "code",
   "execution_count": null,
   "metadata": {},
   "outputs": [],
   "source": [
    "#Lowercase all column names \n",
    "cleansed_data_df.columns = map(str.lower, cleansed_data_df.columns)\n",
    "cleansed_data_df.head(3)"
   ]
  },
  {
   "cell_type": "markdown",
   "metadata": {},
   "source": [
    "#### Setting job id has index"
   ]
  },
  {
   "cell_type": "code",
   "execution_count": null,
   "metadata": {},
   "outputs": [],
   "source": [
    "#Set job posting id as index\n",
    "cleansed_data = cleansed_data_df.set_index('job posting id')\n",
    "cleansed_data.head(3)"
   ]
  },
  {
   "cell_type": "markdown",
   "metadata": {},
   "source": [
    "#### Grouping by city and state "
   ]
  },
  {
   "cell_type": "code",
   "execution_count": null,
   "metadata": {},
   "outputs": [],
   "source": [
    "#Group by City and state \n",
    "grouped_city = cleansed_data.groupby(['city','state']).count()\n",
    "grouped_city = grouped_city.reset_index()\n",
    "grouped_city.head()"
   ]
  },
  {
   "cell_type": "markdown",
   "metadata": {},
   "source": [
    "#### Calling only the dity and state columns"
   ]
  },
  {
   "cell_type": "code",
   "execution_count": null,
   "metadata": {},
   "outputs": [],
   "source": [
    "#Find the cities lat and lng \n",
    "city_state = grouped_city[['city','state']].sort_values(by='city', ascending=True)\n",
    "city_state"
   ]
  },
  {
   "cell_type": "markdown",
   "metadata": {},
   "source": [
    "#### Iterating through city and state to get the lat and long for city"
   ]
  },
  {
   "cell_type": "code",
   "execution_count": null,
   "metadata": {},
   "outputs": [],
   "source": [
    "#iterrating to get the items\n",
    "\n",
    "list_city_lat = []   # create empty lists\n",
    "list_cityt_lng = []\n",
    "\n",
    "for index, row in city_state.iterrows(): # iterate over rows in dataframe\n",
    "\n",
    "    City = row['city']\n",
    "    State = row['state']       \n",
    "    query = str(City)+','+str(State)\n",
    "\n",
    "    results = geocoder.geocode(query)   \n",
    "    city_lat = results[0]['geometry']['lat']\n",
    "    cityt_lng = results[0]['geometry']['lng']\n",
    "\n",
    "    list_city_lat.append(city_lat)\n",
    "    list_cityt_lng.append(cityt_lng)\n",
    "\n",
    "# create new columns from lists    \n",
    "\n",
    "city_state['lat'] = list_city_lat   \n",
    "city_state['lng'] = list_cityt_lng\n",
    "city_state"
   ]
  },
  {
   "cell_type": "markdown",
   "metadata": {},
   "source": [
    "#### Saving to a dataframe"
   ]
  },
  {
   "cell_type": "code",
   "execution_count": null,
   "metadata": {},
   "outputs": [],
   "source": [
    "#Save DF to csv\n",
    "city_state.to_csv(cityData, index = False)"
   ]
  },
  {
   "cell_type": "markdown",
   "metadata": {},
   "source": [
    "#### Calling to see if it stored"
   ]
  },
  {
   "cell_type": "code",
   "execution_count": null,
   "metadata": {},
   "outputs": [],
   "source": [
    "#calling the csv raw data\n",
    "city_csv_file = pd.read_csv(cityData)\n",
    "city_csv_file.head(3)"
   ]
  }
 ],
 "metadata": {
  "kernelspec": {
   "display_name": "Python 3",
   "language": "python",
   "name": "python3"
  },
  "language_info": {
   "codemirror_mode": {
    "name": "ipython",
    "version": 3
   },
   "file_extension": ".py",
   "mimetype": "text/x-python",
   "name": "python",
   "nbconvert_exporter": "python",
   "pygments_lexer": "ipython3",
   "version": "3.7.4"
  }
 },
 "nbformat": 4,
 "nbformat_minor": 2
}
