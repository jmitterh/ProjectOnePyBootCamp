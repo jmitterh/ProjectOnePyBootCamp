{
 "cells": [
  {
   "cell_type": "markdown",
   "metadata": {},
   "source": [
    "# Gmaps Visualization"
   ]
  },
  {
   "cell_type": "code",
   "execution_count": 1,
   "metadata": {},
   "outputs": [],
   "source": [
    "#%matplotlib notebook"
   ]
  },
  {
   "cell_type": "code",
   "execution_count": 1,
   "metadata": {},
   "outputs": [],
   "source": [
    "#imports \n",
    "import json\n",
    "import requests\n",
    "import pandas as pd\n",
    "import matplotlib as plt\n",
    "import random\n",
    "import pprint as pprint\n",
    "import gmaps\n",
    "import gmaps.datasets"
   ]
  },
  {
   "cell_type": "code",
   "execution_count": 61,
   "metadata": {},
   "outputs": [],
   "source": [
    "# Remember to update the config file with your API key\n",
    "from config import gkey"
   ]
  },
  {
   "cell_type": "code",
   "execution_count": 2,
   "metadata": {},
   "outputs": [],
   "source": [
    "# cleaned data file to be saved\n",
    "cleanData = \"../data/cleanData/jp_clean_data.csv\"\n",
    "gMapJobPost = \"../data/cleanViz/jp_total_job_posting.csv\"\n",
    "# path csv file location\n",
    "pathCleanData =\"../datacleanData/\""
   ]
  },
  {
   "cell_type": "code",
   "execution_count": 3,
   "metadata": {},
   "outputs": [
    {
     "data": {
      "text/html": [
       "<div>\n",
       "<style scoped>\n",
       "    .dataframe tbody tr th:only-of-type {\n",
       "        vertical-align: middle;\n",
       "    }\n",
       "\n",
       "    .dataframe tbody tr th {\n",
       "        vertical-align: top;\n",
       "    }\n",
       "\n",
       "    .dataframe thead th {\n",
       "        text-align: right;\n",
       "    }\n",
       "</style>\n",
       "<table border=\"1\" class=\"dataframe\">\n",
       "  <thead>\n",
       "    <tr style=\"text-align: right;\">\n",
       "      <th></th>\n",
       "      <th>job posting id</th>\n",
       "      <th>job title</th>\n",
       "      <th>date created</th>\n",
       "      <th>category</th>\n",
       "      <th>company name</th>\n",
       "      <th>city</th>\n",
       "      <th>state</th>\n",
       "      <th>country</th>\n",
       "      <th>lat</th>\n",
       "      <th>lng</th>\n",
       "      <th>latlng</th>\n",
       "    </tr>\n",
       "  </thead>\n",
       "  <tbody>\n",
       "    <tr>\n",
       "      <th>0</th>\n",
       "      <td>1312805093</td>\n",
       "      <td>Physician: Family Physician Job Opening in Ups...</td>\n",
       "      <td>2019-10-25 12:38:41</td>\n",
       "      <td>Healthcare &amp; Nursing Jobs</td>\n",
       "      <td>CompHealth</td>\n",
       "      <td>Clayton</td>\n",
       "      <td>New York</td>\n",
       "      <td>United States</td>\n",
       "      <td>44.239491</td>\n",
       "      <td>-76.085776</td>\n",
       "      <td>44.239490999999994,-76.085776</td>\n",
       "    </tr>\n",
       "    <tr>\n",
       "      <th>1</th>\n",
       "      <td>1312805901</td>\n",
       "      <td>Physician: Urology Need in Western Ohio with L...</td>\n",
       "      <td>2019-10-25 12:38:57</td>\n",
       "      <td>Healthcare &amp; Nursing Jobs</td>\n",
       "      <td>CompHealth</td>\n",
       "      <td>Sunbury</td>\n",
       "      <td>Ohio</td>\n",
       "      <td>United States</td>\n",
       "      <td>40.305232</td>\n",
       "      <td>-82.824785</td>\n",
       "      <td>40.305232000000004,-82.82478499999998</td>\n",
       "    </tr>\n",
       "    <tr>\n",
       "      <th>2</th>\n",
       "      <td>1328241931</td>\n",
       "      <td>Physician: Internal Medicine Physician Job in ...</td>\n",
       "      <td>2019-11-06 20:28:13</td>\n",
       "      <td>Healthcare &amp; Nursing Jobs</td>\n",
       "      <td>CompHealth</td>\n",
       "      <td>Cheshire</td>\n",
       "      <td>Connecticut</td>\n",
       "      <td>United States</td>\n",
       "      <td>41.508367</td>\n",
       "      <td>-72.910620</td>\n",
       "      <td>41.508367,-72.91062</td>\n",
       "    </tr>\n",
       "    <tr>\n",
       "      <th>3</th>\n",
       "      <td>1334502463</td>\n",
       "      <td>Physician: A Locums Otolaryngologist Is Wanted...</td>\n",
       "      <td>2019-11-11 22:10:17</td>\n",
       "      <td>Healthcare &amp; Nursing Jobs</td>\n",
       "      <td>CompHealth</td>\n",
       "      <td>Marion</td>\n",
       "      <td>Illinois</td>\n",
       "      <td>United States</td>\n",
       "      <td>37.730605</td>\n",
       "      <td>-88.933126</td>\n",
       "      <td>37.730605,-88.933126</td>\n",
       "    </tr>\n",
       "    <tr>\n",
       "      <th>4</th>\n",
       "      <td>1312805719</td>\n",
       "      <td>Physician: Hospitalist needed in Hartford, CT ...</td>\n",
       "      <td>2019-10-25 12:38:53</td>\n",
       "      <td>Healthcare &amp; Nursing Jobs</td>\n",
       "      <td>CompHealth</td>\n",
       "      <td>Cromwell</td>\n",
       "      <td>Connecticut</td>\n",
       "      <td>United States</td>\n",
       "      <td>41.601859</td>\n",
       "      <td>-72.657316</td>\n",
       "      <td>41.60185900000001,-72.65731600000002</td>\n",
       "    </tr>\n",
       "  </tbody>\n",
       "</table>\n",
       "</div>"
      ],
      "text/plain": [
       "   job posting id                                          job title  \\\n",
       "0      1312805093  Physician: Family Physician Job Opening in Ups...   \n",
       "1      1312805901  Physician: Urology Need in Western Ohio with L...   \n",
       "2      1328241931  Physician: Internal Medicine Physician Job in ...   \n",
       "3      1334502463  Physician: A Locums Otolaryngologist Is Wanted...   \n",
       "4      1312805719  Physician: Hospitalist needed in Hartford, CT ...   \n",
       "\n",
       "          date created                   category company name      city  \\\n",
       "0  2019-10-25 12:38:41  Healthcare & Nursing Jobs   CompHealth   Clayton   \n",
       "1  2019-10-25 12:38:57  Healthcare & Nursing Jobs   CompHealth   Sunbury   \n",
       "2  2019-11-06 20:28:13  Healthcare & Nursing Jobs   CompHealth  Cheshire   \n",
       "3  2019-11-11 22:10:17  Healthcare & Nursing Jobs   CompHealth    Marion   \n",
       "4  2019-10-25 12:38:53  Healthcare & Nursing Jobs   CompHealth  Cromwell   \n",
       "\n",
       "         state        country        lat        lng  \\\n",
       "0     New York  United States  44.239491 -76.085776   \n",
       "1         Ohio  United States  40.305232 -82.824785   \n",
       "2  Connecticut  United States  41.508367 -72.910620   \n",
       "3     Illinois  United States  37.730605 -88.933126   \n",
       "4  Connecticut  United States  41.601859 -72.657316   \n",
       "\n",
       "                                  latlng  \n",
       "0          44.239490999999994,-76.085776  \n",
       "1  40.305232000000004,-82.82478499999998  \n",
       "2                    41.508367,-72.91062  \n",
       "3                   37.730605,-88.933126  \n",
       "4   41.60185900000001,-72.65731600000002  "
      ]
     },
     "execution_count": 3,
     "metadata": {},
     "output_type": "execute_result"
    }
   ],
   "source": [
    "#calling the csv cleanData folder\n",
    "cleansed_data_df = pd.read_csv(cleanData)\n",
    "cleansed_data_df.head()"
   ]
  },
  {
   "cell_type": "code",
   "execution_count": 4,
   "metadata": {},
   "outputs": [
    {
     "data": {
      "text/html": [
       "<div>\n",
       "<style scoped>\n",
       "    .dataframe tbody tr th:only-of-type {\n",
       "        vertical-align: middle;\n",
       "    }\n",
       "\n",
       "    .dataframe tbody tr th {\n",
       "        vertical-align: top;\n",
       "    }\n",
       "\n",
       "    .dataframe thead th {\n",
       "        text-align: right;\n",
       "    }\n",
       "</style>\n",
       "<table border=\"1\" class=\"dataframe\">\n",
       "  <thead>\n",
       "    <tr style=\"text-align: right;\">\n",
       "      <th></th>\n",
       "      <th>job posting id</th>\n",
       "      <th>job title</th>\n",
       "      <th>date created</th>\n",
       "      <th>category</th>\n",
       "      <th>company name</th>\n",
       "      <th>city</th>\n",
       "      <th>state</th>\n",
       "      <th>country</th>\n",
       "      <th>lat</th>\n",
       "      <th>lng</th>\n",
       "      <th>latlng</th>\n",
       "    </tr>\n",
       "  </thead>\n",
       "  <tbody>\n",
       "    <tr>\n",
       "      <th>0</th>\n",
       "      <td>1312805093</td>\n",
       "      <td>Physician: Family Physician Job Opening in Ups...</td>\n",
       "      <td>2019-10-25 12:38:41</td>\n",
       "      <td>Healthcare &amp; Nursing Jobs</td>\n",
       "      <td>CompHealth</td>\n",
       "      <td>Clayton</td>\n",
       "      <td>New York</td>\n",
       "      <td>United States</td>\n",
       "      <td>44.239491</td>\n",
       "      <td>-76.085776</td>\n",
       "      <td>44.239490999999994,-76.085776</td>\n",
       "    </tr>\n",
       "    <tr>\n",
       "      <th>1</th>\n",
       "      <td>1312805901</td>\n",
       "      <td>Physician: Urology Need in Western Ohio with L...</td>\n",
       "      <td>2019-10-25 12:38:57</td>\n",
       "      <td>Healthcare &amp; Nursing Jobs</td>\n",
       "      <td>CompHealth</td>\n",
       "      <td>Sunbury</td>\n",
       "      <td>Ohio</td>\n",
       "      <td>United States</td>\n",
       "      <td>40.305232</td>\n",
       "      <td>-82.824785</td>\n",
       "      <td>40.305232000000004,-82.82478499999998</td>\n",
       "    </tr>\n",
       "    <tr>\n",
       "      <th>2</th>\n",
       "      <td>1328241931</td>\n",
       "      <td>Physician: Internal Medicine Physician Job in ...</td>\n",
       "      <td>2019-11-06 20:28:13</td>\n",
       "      <td>Healthcare &amp; Nursing Jobs</td>\n",
       "      <td>CompHealth</td>\n",
       "      <td>Cheshire</td>\n",
       "      <td>Connecticut</td>\n",
       "      <td>United States</td>\n",
       "      <td>41.508367</td>\n",
       "      <td>-72.910620</td>\n",
       "      <td>41.508367,-72.91062</td>\n",
       "    </tr>\n",
       "    <tr>\n",
       "      <th>3</th>\n",
       "      <td>1334502463</td>\n",
       "      <td>Physician: A Locums Otolaryngologist Is Wanted...</td>\n",
       "      <td>2019-11-11 22:10:17</td>\n",
       "      <td>Healthcare &amp; Nursing Jobs</td>\n",
       "      <td>CompHealth</td>\n",
       "      <td>Marion</td>\n",
       "      <td>Illinois</td>\n",
       "      <td>United States</td>\n",
       "      <td>37.730605</td>\n",
       "      <td>-88.933126</td>\n",
       "      <td>37.730605,-88.933126</td>\n",
       "    </tr>\n",
       "    <tr>\n",
       "      <th>4</th>\n",
       "      <td>1312805719</td>\n",
       "      <td>Physician: Hospitalist needed in Hartford, CT ...</td>\n",
       "      <td>2019-10-25 12:38:53</td>\n",
       "      <td>Healthcare &amp; Nursing Jobs</td>\n",
       "      <td>CompHealth</td>\n",
       "      <td>Cromwell</td>\n",
       "      <td>Connecticut</td>\n",
       "      <td>United States</td>\n",
       "      <td>41.601859</td>\n",
       "      <td>-72.657316</td>\n",
       "      <td>41.60185900000001,-72.65731600000002</td>\n",
       "    </tr>\n",
       "  </tbody>\n",
       "</table>\n",
       "</div>"
      ],
      "text/plain": [
       "   job posting id                                          job title  \\\n",
       "0      1312805093  Physician: Family Physician Job Opening in Ups...   \n",
       "1      1312805901  Physician: Urology Need in Western Ohio with L...   \n",
       "2      1328241931  Physician: Internal Medicine Physician Job in ...   \n",
       "3      1334502463  Physician: A Locums Otolaryngologist Is Wanted...   \n",
       "4      1312805719  Physician: Hospitalist needed in Hartford, CT ...   \n",
       "\n",
       "          date created                   category company name      city  \\\n",
       "0  2019-10-25 12:38:41  Healthcare & Nursing Jobs   CompHealth   Clayton   \n",
       "1  2019-10-25 12:38:57  Healthcare & Nursing Jobs   CompHealth   Sunbury   \n",
       "2  2019-11-06 20:28:13  Healthcare & Nursing Jobs   CompHealth  Cheshire   \n",
       "3  2019-11-11 22:10:17  Healthcare & Nursing Jobs   CompHealth    Marion   \n",
       "4  2019-10-25 12:38:53  Healthcare & Nursing Jobs   CompHealth  Cromwell   \n",
       "\n",
       "         state        country        lat        lng  \\\n",
       "0     New York  United States  44.239491 -76.085776   \n",
       "1         Ohio  United States  40.305232 -82.824785   \n",
       "2  Connecticut  United States  41.508367 -72.910620   \n",
       "3     Illinois  United States  37.730605 -88.933126   \n",
       "4  Connecticut  United States  41.601859 -72.657316   \n",
       "\n",
       "                                  latlng  \n",
       "0          44.239490999999994,-76.085776  \n",
       "1  40.305232000000004,-82.82478499999998  \n",
       "2                    41.508367,-72.91062  \n",
       "3                   37.730605,-88.933126  \n",
       "4   41.60185900000001,-72.65731600000002  "
      ]
     },
     "execution_count": 4,
     "metadata": {},
     "output_type": "execute_result"
    }
   ],
   "source": [
    "#Lowercase all column names \n",
    "cleansed_data_df.columns = map(str.lower, cleansed_data_df.columns)\n",
    "cleansed_data_df.head()"
   ]
  },
  {
   "cell_type": "code",
   "execution_count": 5,
   "metadata": {},
   "outputs": [
    {
     "data": {
      "text/html": [
       "<div>\n",
       "<style scoped>\n",
       "    .dataframe tbody tr th:only-of-type {\n",
       "        vertical-align: middle;\n",
       "    }\n",
       "\n",
       "    .dataframe tbody tr th {\n",
       "        vertical-align: top;\n",
       "    }\n",
       "\n",
       "    .dataframe thead th {\n",
       "        text-align: right;\n",
       "    }\n",
       "</style>\n",
       "<table border=\"1\" class=\"dataframe\">\n",
       "  <thead>\n",
       "    <tr style=\"text-align: right;\">\n",
       "      <th></th>\n",
       "      <th>job title</th>\n",
       "      <th>date created</th>\n",
       "      <th>category</th>\n",
       "      <th>company name</th>\n",
       "      <th>city</th>\n",
       "      <th>state</th>\n",
       "      <th>country</th>\n",
       "      <th>lat</th>\n",
       "      <th>lng</th>\n",
       "      <th>latlng</th>\n",
       "    </tr>\n",
       "    <tr>\n",
       "      <th>job posting id</th>\n",
       "      <th></th>\n",
       "      <th></th>\n",
       "      <th></th>\n",
       "      <th></th>\n",
       "      <th></th>\n",
       "      <th></th>\n",
       "      <th></th>\n",
       "      <th></th>\n",
       "      <th></th>\n",
       "      <th></th>\n",
       "    </tr>\n",
       "  </thead>\n",
       "  <tbody>\n",
       "    <tr>\n",
       "      <th>1312805093</th>\n",
       "      <td>Physician: Family Physician Job Opening in Ups...</td>\n",
       "      <td>2019-10-25 12:38:41</td>\n",
       "      <td>Healthcare &amp; Nursing Jobs</td>\n",
       "      <td>CompHealth</td>\n",
       "      <td>Clayton</td>\n",
       "      <td>New York</td>\n",
       "      <td>United States</td>\n",
       "      <td>44.239491</td>\n",
       "      <td>-76.085776</td>\n",
       "      <td>44.239490999999994,-76.085776</td>\n",
       "    </tr>\n",
       "    <tr>\n",
       "      <th>1312805901</th>\n",
       "      <td>Physician: Urology Need in Western Ohio with L...</td>\n",
       "      <td>2019-10-25 12:38:57</td>\n",
       "      <td>Healthcare &amp; Nursing Jobs</td>\n",
       "      <td>CompHealth</td>\n",
       "      <td>Sunbury</td>\n",
       "      <td>Ohio</td>\n",
       "      <td>United States</td>\n",
       "      <td>40.305232</td>\n",
       "      <td>-82.824785</td>\n",
       "      <td>40.305232000000004,-82.82478499999998</td>\n",
       "    </tr>\n",
       "    <tr>\n",
       "      <th>1328241931</th>\n",
       "      <td>Physician: Internal Medicine Physician Job in ...</td>\n",
       "      <td>2019-11-06 20:28:13</td>\n",
       "      <td>Healthcare &amp; Nursing Jobs</td>\n",
       "      <td>CompHealth</td>\n",
       "      <td>Cheshire</td>\n",
       "      <td>Connecticut</td>\n",
       "      <td>United States</td>\n",
       "      <td>41.508367</td>\n",
       "      <td>-72.910620</td>\n",
       "      <td>41.508367,-72.91062</td>\n",
       "    </tr>\n",
       "    <tr>\n",
       "      <th>1334502463</th>\n",
       "      <td>Physician: A Locums Otolaryngologist Is Wanted...</td>\n",
       "      <td>2019-11-11 22:10:17</td>\n",
       "      <td>Healthcare &amp; Nursing Jobs</td>\n",
       "      <td>CompHealth</td>\n",
       "      <td>Marion</td>\n",
       "      <td>Illinois</td>\n",
       "      <td>United States</td>\n",
       "      <td>37.730605</td>\n",
       "      <td>-88.933126</td>\n",
       "      <td>37.730605,-88.933126</td>\n",
       "    </tr>\n",
       "    <tr>\n",
       "      <th>1312805719</th>\n",
       "      <td>Physician: Hospitalist needed in Hartford, CT ...</td>\n",
       "      <td>2019-10-25 12:38:53</td>\n",
       "      <td>Healthcare &amp; Nursing Jobs</td>\n",
       "      <td>CompHealth</td>\n",
       "      <td>Cromwell</td>\n",
       "      <td>Connecticut</td>\n",
       "      <td>United States</td>\n",
       "      <td>41.601859</td>\n",
       "      <td>-72.657316</td>\n",
       "      <td>41.60185900000001,-72.65731600000002</td>\n",
       "    </tr>\n",
       "  </tbody>\n",
       "</table>\n",
       "</div>"
      ],
      "text/plain": [
       "                                                        job title  \\\n",
       "job posting id                                                      \n",
       "1312805093      Physician: Family Physician Job Opening in Ups...   \n",
       "1312805901      Physician: Urology Need in Western Ohio with L...   \n",
       "1328241931      Physician: Internal Medicine Physician Job in ...   \n",
       "1334502463      Physician: A Locums Otolaryngologist Is Wanted...   \n",
       "1312805719      Physician: Hospitalist needed in Hartford, CT ...   \n",
       "\n",
       "                       date created                   category company name  \\\n",
       "job posting id                                                                \n",
       "1312805093      2019-10-25 12:38:41  Healthcare & Nursing Jobs   CompHealth   \n",
       "1312805901      2019-10-25 12:38:57  Healthcare & Nursing Jobs   CompHealth   \n",
       "1328241931      2019-11-06 20:28:13  Healthcare & Nursing Jobs   CompHealth   \n",
       "1334502463      2019-11-11 22:10:17  Healthcare & Nursing Jobs   CompHealth   \n",
       "1312805719      2019-10-25 12:38:53  Healthcare & Nursing Jobs   CompHealth   \n",
       "\n",
       "                    city        state        country        lat        lng  \\\n",
       "job posting id                                                               \n",
       "1312805093       Clayton     New York  United States  44.239491 -76.085776   \n",
       "1312805901       Sunbury         Ohio  United States  40.305232 -82.824785   \n",
       "1328241931      Cheshire  Connecticut  United States  41.508367 -72.910620   \n",
       "1334502463        Marion     Illinois  United States  37.730605 -88.933126   \n",
       "1312805719      Cromwell  Connecticut  United States  41.601859 -72.657316   \n",
       "\n",
       "                                               latlng  \n",
       "job posting id                                         \n",
       "1312805093              44.239490999999994,-76.085776  \n",
       "1312805901      40.305232000000004,-82.82478499999998  \n",
       "1328241931                        41.508367,-72.91062  \n",
       "1334502463                       37.730605,-88.933126  \n",
       "1312805719       41.60185900000001,-72.65731600000002  "
      ]
     },
     "execution_count": 5,
     "metadata": {},
     "output_type": "execute_result"
    }
   ],
   "source": [
    "#Set job posting id as index\n",
    "cleansed_data = cleansed_data_df.set_index('job posting id')\n",
    "cleansed_data.head()"
   ]
  },
  {
   "cell_type": "markdown",
   "metadata": {},
   "source": [
    "### Calling Gmaps API and  Key"
   ]
  },
  {
   "cell_type": "code",
   "execution_count": 67,
   "metadata": {},
   "outputs": [],
   "source": [
    "#Calling Gmaps key\n",
    "gmaps.configure(api_key= gkey) # Fill in with your API key\n",
    "cleansed_data_copy = cleansed_data.copy()\n"
   ]
  },
  {
   "cell_type": "markdown",
   "metadata": {},
   "source": [
    "### Gmaps: All Job Postings in US"
   ]
  },
  {
   "cell_type": "code",
   "execution_count": 6,
   "metadata": {},
   "outputs": [
    {
     "data": {
      "application/vnd.jupyter.widget-view+json": {
       "model_id": "7a7fb9d852b44b26a9c735979515e764",
       "version_major": 2,
       "version_minor": 0
      },
      "text/plain": [
       "Figure(layout=FigureLayout(height='420px'))"
      ]
     },
     "metadata": {},
     "output_type": "display_data"
    }
   ],
   "source": [
    "cleansed_data_copy = cleansed_data.copy()\n",
    "#Gmaps testing\n",
    "locations = cleansed_data_copy[['lat', 'lng']]\n",
    "fig = gmaps.figure(map_type='TERRAIN')\n",
    "\n",
    "\n",
    "\n",
    "locations_layer = gmaps.symbol_layer(\n",
    "    locations, fill_color='blue', stroke_color='blue', scale=1)\n",
    "fig = gmaps.figure()\n",
    "fig.add_layer(locations_layer)\n",
    "fig\n"
   ]
  },
  {
   "cell_type": "markdown",
   "metadata": {},
   "source": [
    "## Job posting within the top state"
   ]
  },
  {
   "cell_type": "markdown",
   "metadata": {},
   "source": [
    "#### Finding the most job postings within a state"
   ]
  },
  {
   "cell_type": "code",
   "execution_count": 9,
   "metadata": {},
   "outputs": [
    {
     "data": {
      "text/plain": [
       "'Illinois'"
      ]
     },
     "execution_count": 9,
     "metadata": {},
     "output_type": "execute_result"
    }
   ],
   "source": [
    "#cleansed_data_copy[cleansed_data_copy.country == 'United States']\n",
    "\n",
    "top_state = cleansed_data_copy.groupby(['state'])\n",
    "top_state = top_state['job title']\n",
    "top_state = top_state.count().idxmax()\n",
    "\n",
    "top_state"
   ]
  },
  {
   "cell_type": "markdown",
   "metadata": {},
   "source": [
    "#### filter the data frame using the top state variable and get the lat and long for total job posting there"
   ]
  },
  {
   "cell_type": "code",
   "execution_count": 10,
   "metadata": {},
   "outputs": [
    {
     "data": {
      "text/html": [
       "<div>\n",
       "<style scoped>\n",
       "    .dataframe tbody tr th:only-of-type {\n",
       "        vertical-align: middle;\n",
       "    }\n",
       "\n",
       "    .dataframe tbody tr th {\n",
       "        vertical-align: top;\n",
       "    }\n",
       "\n",
       "    .dataframe thead th {\n",
       "        text-align: right;\n",
       "    }\n",
       "</style>\n",
       "<table border=\"1\" class=\"dataframe\">\n",
       "  <thead>\n",
       "    <tr style=\"text-align: right;\">\n",
       "      <th></th>\n",
       "      <th>job title</th>\n",
       "      <th>date created</th>\n",
       "      <th>category</th>\n",
       "      <th>company name</th>\n",
       "      <th>city</th>\n",
       "      <th>state</th>\n",
       "      <th>country</th>\n",
       "      <th>lat</th>\n",
       "      <th>lng</th>\n",
       "      <th>latlng</th>\n",
       "    </tr>\n",
       "    <tr>\n",
       "      <th>job posting id</th>\n",
       "      <th></th>\n",
       "      <th></th>\n",
       "      <th></th>\n",
       "      <th></th>\n",
       "      <th></th>\n",
       "      <th></th>\n",
       "      <th></th>\n",
       "      <th></th>\n",
       "      <th></th>\n",
       "      <th></th>\n",
       "    </tr>\n",
       "  </thead>\n",
       "  <tbody>\n",
       "    <tr>\n",
       "      <th>1334502463</th>\n",
       "      <td>Physician: A Locums Otolaryngologist Is Wanted...</td>\n",
       "      <td>2019-11-11 22:10:17</td>\n",
       "      <td>Healthcare &amp; Nursing Jobs</td>\n",
       "      <td>CompHealth</td>\n",
       "      <td>Marion</td>\n",
       "      <td>Illinois</td>\n",
       "      <td>United States</td>\n",
       "      <td>37.730605</td>\n",
       "      <td>-88.933126</td>\n",
       "      <td>37.730605,-88.933126</td>\n",
       "    </tr>\n",
       "    <tr>\n",
       "      <th>1312809651</th>\n",
       "      <td>Physician: An Orthopedic Surgeon Is Required f...</td>\n",
       "      <td>2019-10-25 12:40:21</td>\n",
       "      <td>Healthcare &amp; Nursing Jobs</td>\n",
       "      <td>CompHealth</td>\n",
       "      <td>Niantic</td>\n",
       "      <td>Illinois</td>\n",
       "      <td>United States</td>\n",
       "      <td>39.863792</td>\n",
       "      <td>-89.154830</td>\n",
       "      <td>39.863792,-89.15483</td>\n",
       "    </tr>\n",
       "    <tr>\n",
       "      <th>1339395641</th>\n",
       "      <td>Physician: Locums Geriatric Medicine Physician...</td>\n",
       "      <td>2019-11-15 06:42:06</td>\n",
       "      <td>Healthcare &amp; Nursing Jobs</td>\n",
       "      <td>CompHealth</td>\n",
       "      <td>Rockford</td>\n",
       "      <td>Illinois</td>\n",
       "      <td>United States</td>\n",
       "      <td>42.331667</td>\n",
       "      <td>-89.151548</td>\n",
       "      <td>42.331666999999996,-89.15154799999998</td>\n",
       "    </tr>\n",
       "  </tbody>\n",
       "</table>\n",
       "</div>"
      ],
      "text/plain": [
       "                                                        job title  \\\n",
       "job posting id                                                      \n",
       "1334502463      Physician: A Locums Otolaryngologist Is Wanted...   \n",
       "1312809651      Physician: An Orthopedic Surgeon Is Required f...   \n",
       "1339395641      Physician: Locums Geriatric Medicine Physician...   \n",
       "\n",
       "                       date created                   category company name  \\\n",
       "job posting id                                                                \n",
       "1334502463      2019-11-11 22:10:17  Healthcare & Nursing Jobs   CompHealth   \n",
       "1312809651      2019-10-25 12:40:21  Healthcare & Nursing Jobs   CompHealth   \n",
       "1339395641      2019-11-15 06:42:06  Healthcare & Nursing Jobs   CompHealth   \n",
       "\n",
       "                    city     state        country        lat        lng  \\\n",
       "job posting id                                                            \n",
       "1334502463        Marion  Illinois  United States  37.730605 -88.933126   \n",
       "1312809651       Niantic  Illinois  United States  39.863792 -89.154830   \n",
       "1339395641      Rockford  Illinois  United States  42.331667 -89.151548   \n",
       "\n",
       "                                               latlng  \n",
       "job posting id                                         \n",
       "1334502463                       37.730605,-88.933126  \n",
       "1312809651                        39.863792,-89.15483  \n",
       "1339395641      42.331666999999996,-89.15154799999998  "
      ]
     },
     "execution_count": 10,
     "metadata": {},
     "output_type": "execute_result"
    }
   ],
   "source": [
    "tope_state_data = cleansed_data_copy[cleansed_data_copy.state == top_state]\n",
    "tope_state_data.head(3)\n"
   ]
  },
  {
   "cell_type": "markdown",
   "metadata": {},
   "source": [
    "### Gmaps: Top state job postings"
   ]
  },
  {
   "cell_type": "code",
   "execution_count": 11,
   "metadata": {},
   "outputs": [
    {
     "data": {
      "application/vnd.jupyter.widget-view+json": {
       "model_id": "5e442622537546aea9ccdd766fab8e32",
       "version_major": 2,
       "version_minor": 0
      },
      "text/plain": [
       "Figure(layout=FigureLayout(height='420px'))"
      ]
     },
     "metadata": {},
     "output_type": "display_data"
    }
   ],
   "source": [
    "#Gmaps testing\n",
    "locations = tope_state_data[['lat', 'lng']]\n",
    "fig = gmaps.figure(map_type='TERRAIN')\n",
    "\n",
    "\n",
    "\n",
    "locations_layer = gmaps.symbol_layer(\n",
    "    locations, fill_color='blue', stroke_color='blue', scale=1)\n",
    "fig = gmaps.figure()\n",
    "fig.add_layer(locations_layer)\n",
    "fig"
   ]
  },
  {
   "cell_type": "markdown",
   "metadata": {},
   "source": [
    "### Different Color by Category"
   ]
  },
  {
   "cell_type": "code",
   "execution_count": 8,
   "metadata": {},
   "outputs": [
    {
     "data": {
      "text/plain": [
       "array(['Healthcare & Nursing Jobs', 'Other/General Jobs',\n",
       "       'Customer Services Jobs', 'Sales Jobs', 'Retail Jobs',\n",
       "       'Logistics & Warehouse Jobs', 'Accounting & Finance Jobs'],\n",
       "      dtype=object)"
      ]
     },
     "execution_count": 8,
     "metadata": {},
     "output_type": "execute_result"
    }
   ],
   "source": [
    "#Geting unique values\n",
    "cat_unique = cleansed_data_copy['category'].unique()\n",
    "cat_unique"
   ]
  },
  {
   "cell_type": "code",
   "execution_count": 9,
   "metadata": {},
   "outputs": [
    {
     "name": "stdout",
     "output_type": "stream",
     "text": [
      "Healthcare & Nursing Jobs\n",
      "Other/General Jobs\n",
      "Customer Services Jobs\n",
      "Sales Jobs\n",
      "Retail Jobs\n",
      "Logistics & Warehouse Jobs\n",
      "Accounting & Finance Jobs\n"
     ]
    }
   ],
   "source": [
    "for i in range(len(cat_unique)):\n",
    "    print(cat_unique[i])"
   ]
  },
  {
   "cell_type": "markdown",
   "metadata": {},
   "source": [
    "### Gmaps: Total job postings per category"
   ]
  },
  {
   "cell_type": "code",
   "execution_count": 12,
   "metadata": {},
   "outputs": [
    {
     "data": {
      "application/vnd.jupyter.widget-view+json": {
       "model_id": "4e63d74d20db4ccdb318628741aa98bb",
       "version_major": 2,
       "version_minor": 0
      },
      "text/plain": [
       "Figure(layout=FigureLayout(height='420px'))"
      ]
     },
     "metadata": {},
     "output_type": "display_data"
    }
   ],
   "source": [
    "#Creating for loop to itterate over the gmaps to create multiple layers\n",
    "j = -1\n",
    "for i in range(len(cat_unique)):\n",
    "    df = pd.DataFrame()\n",
    "    df = cleansed_data_copy[cleansed_data_copy['category'] == cat_unique[i]]\n",
    "    df = df[['lat', 'lng']]\n",
    "    \n",
    "    #if statement to append to a datafram variable\n",
    "    if i != j:\n",
    "        j = i\n",
    "        globals()['df_%s' % i] = pd.DataFrame()\n",
    "        globals()['df_%s' % i] = globals()['df_%s' % i].append(df)\n",
    "        \n",
    "#defining colors\n",
    "colors  = [\"red\",\"green\",\"blue\",\"purple\",\"yellow\",\"white\",\"black\"]\n",
    "\n",
    "#itterating over layer\n",
    "for i in range(len(cat_unique)):\n",
    "    color = random.choice(colors)\n",
    "    globals()['df_layer%s' % i] = gmaps.symbol_layer(\n",
    "    globals()['df_%s' % i], fill_color = str(color) ,stroke_color = str(color), scale=1)\n",
    "    \n",
    "fig = gmaps.figure()\n",
    "\n",
    "for i in range(len(cat_unique)):\n",
    "    fig.add_layer(globals()['df_layer%s' % i])\n",
    "    \n",
    "fig"
   ]
  },
  {
   "cell_type": "code",
   "execution_count": null,
   "metadata": {},
   "outputs": [],
   "source": []
  },
  {
   "cell_type": "code",
   "execution_count": null,
   "metadata": {},
   "outputs": [],
   "source": []
  }
 ],
 "metadata": {
  "kernelspec": {
   "display_name": "Python 3",
   "language": "python",
   "name": "python3"
  },
  "language_info": {
   "codemirror_mode": {
    "name": "ipython",
    "version": 3
   },
   "file_extension": ".py",
   "mimetype": "text/x-python",
   "name": "python",
   "nbconvert_exporter": "python",
   "pygments_lexer": "ipython3",
   "version": "3.7.3"
  }
 },
 "nbformat": 4,
 "nbformat_minor": 2
}
