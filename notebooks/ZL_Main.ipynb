{
 "cells": [
  {
   "cell_type": "code",
   "execution_count": null,
   "metadata": {},
   "outputs": [],
   "source": [
    "#imports \n",
    "import json\n",
    "import os\n",
    "import requests\n",
    "import pandas as pd\n",
    "import matplotlib as plt\n",
    "import pprint as pprint\n",
    "from pandas.io.json import json_normalize\n",
    "import gmaps\n",
    "import gmaps.datasets"
   ]
  },
  {
   "cell_type": "code",
   "execution_count": null,
   "metadata": {},
   "outputs": [],
   "source": [
    "# data file to be saved\n",
    "rawData = \"../data/rawData/zl_normalized_dataframe.csv\"\n",
    "\n",
    "\n",
    "# renamed data file to be saved\n",
    "orgRawData = \"../data/rawData/zl_organized_dataframe.csv\"\n",
    "\n",
    "# cleaned data file to be saved\n",
    "cleanData = \"../data/cleanData/zl_clean_data.csv\"\n",
    "\n",
    "# path csv file location\n",
    "pathRawData = \"../data/rawData/\"\n",
    "pathCleanData =\"../datacleanData/\""
   ]
  },
  {
   "cell_type": "code",
   "execution_count": null,
   "metadata": {},
   "outputs": [],
   "source": [
    "# Remember to update the config file with your API key\n",
    "from config import api_key\n",
    "from config import api_id\n",
    "from config import gkey"
   ]
  },
  {
   "cell_type": "code",
   "execution_count": null,
   "metadata": {},
   "outputs": [],
   "source": [
    "url = \"https://api.adzuna.com/v1/api/jobs/us/search/\"\n",
    "#have to create iteration to get all pages of data\n",
    "page = \"1\"\n",
    "api_details =\"?\" + \"app_id=\" + api_id + \"&app_key=\" + api_key\n",
    "# Build query URL\n",
    "query_url = url + page + api_details\n",
    "query_url"
   ]
  },
  {
   "cell_type": "code",
   "execution_count": null,
   "metadata": {},
   "outputs": [],
   "source": [
    "data_response = requests.get(query_url)\n",
    "data_json = data_response.json()\n",
    "type(data_json)\n"
   ]
  },
  {
   "cell_type": "code",
   "execution_count": null,
   "metadata": {},
   "outputs": [],
   "source": [
    "#Getting data using json_normalize\n",
    "#LINK: https://pandas.pydata.org/pandas-docs/stable/reference/api/pandas.io.json.json_normalize.html\n",
    "\n",
    "pages_test = [str(x) for x in range(1,101)]\n",
    "\n",
    "counter = 0\n",
    "# Build query URL\n",
    "data_pages_df = pd.DataFrame()\n",
    "\n",
    "for page_num in pages_test:\n",
    "    response = requests.get(url + page_num + api_details).json()\n",
    "    \n",
    "    #create a df to store the normalized page that has the job postings\n",
    "    normalized_page = json_normalize(response['results'])\n",
    "    \n",
    "    #add normalized data into a df\n",
    "    data_page_df = pd.DataFrame(normalized_page)\n",
    "    \n",
    "    #add the url column to df incase an error occurs you know what page you were on\n",
    "    data_page_df['query_url'] = 'page number ' + page_num\n",
    "    \n",
    "    #append to a new df so each page can be saved\n",
    "    #Sorting because non-concatenation axis is not aligned\n",
    "    data_pages_df = data_pages_df.append(data_page_df, sort=True)\n",
    "    \n",
    "    counter += 1\n",
    "    print(f\"Page {page_num} iteration complete\")\n",
    "    \n",
    "print(f'total rows iterated | {counter * 10}')   \n",
    "      "
   ]
  },
  {
   "cell_type": "code",
   "execution_count": null,
   "metadata": {},
   "outputs": [],
   "source": [
    "#save raw data to dataRaw folder\n",
    "data_pages_df.to_csv(rawData)"
   ]
  },
  {
   "cell_type": "code",
   "execution_count": null,
   "metadata": {},
   "outputs": [],
   "source": [
    "#calling the csv raw data\n",
    "csv_file = pd.read_csv(rawData)\n",
    "csv_file.head()\n"
   ]
  },
  {
   "cell_type": "code",
   "execution_count": null,
   "metadata": {
    "scrolled": true
   },
   "outputs": [],
   "source": [
    "#making a copy\n",
    "csv_file_copy = csv_file.copy()\n",
    "\n",
    "#getting only the rows that we are using\n",
    "csv_file_copy = csv_file_copy[[\"id\",\"title\",\"category.label\",\"company.display_name\", \"location.display_name\", \"latitude\",\"longitude\" ]]\n",
    "csv_file_copy.head()"
   ]
  },
  {
   "cell_type": "code",
   "execution_count": null,
   "metadata": {},
   "outputs": [],
   "source": [
    "#Renaming the column names\n",
    "\n",
    "renamed_csv_file = csv_file_copy.rename(columns = {\n",
    "    \"id\": \"Job Posting ID\",\n",
    "    \"title\": \"Job Title\",\n",
    "    \"category.label\":\"Category\",\n",
    "    \"company.display_name\":\"Company Name\",\n",
    "    \"location.display_name\":\"Location\",\n",
    "    \"latitude\":\"Lat\",\n",
    "    \"longitude\":\"Lng\"\n",
    "})\n",
    "renamed_csv_file.head()"
   ]
  },
  {
   "cell_type": "code",
   "execution_count": null,
   "metadata": {},
   "outputs": [],
   "source": [
    "#save raw data to dataRaw folder\n",
    "renamed_csv_file.to_csv(orgRawData)"
   ]
  },
  {
   "cell_type": "code",
   "execution_count": null,
   "metadata": {},
   "outputs": [],
   "source": [
    "#calling the csv org data\n",
    "org_csv_file = pd.read_csv(orgRawData)\n",
    "org_csv_file.head()"
   ]
  },
  {
   "cell_type": "code",
   "execution_count": null,
   "metadata": {},
   "outputs": [],
   "source": [
    "#Count Rows of all columns\n",
    "org_csv_file.count()"
   ]
  },
  {
   "cell_type": "code",
   "execution_count": null,
   "metadata": {},
   "outputs": [],
   "source": [
    "#Remove unwanted column\n",
    "del org_csv_file['Unnamed: 0']\n",
    "org_csv_file.head()"
   ]
  },
  {
   "cell_type": "code",
   "execution_count": null,
   "metadata": {},
   "outputs": [],
   "source": [
    "#Delete Rows with missing data from lat and lng\n",
    "clean_data = org_csv_file.dropna()\n",
    "clean_data.count()"
   ]
  },
  {
   "cell_type": "code",
   "execution_count": null,
   "metadata": {},
   "outputs": [],
   "source": [
    "#Save clean data into cleanData folder\n",
    "clean_data.to_csv(cleanData)"
   ]
  },
  {
   "cell_type": "code",
   "execution_count": null,
   "metadata": {},
   "outputs": [],
   "source": [
    "#Deleting rows with any missing data\n",
    "#calling the csv org data\n",
    "clean_csv_file = pd.read_csv(cleanData)\n",
    "\n",
    "#Not sure why this column came back\n",
    "del clean_csv_file['Unnamed: 0']\n",
    "\n",
    "clean_csv_file.head()"
   ]
  },
  {
   "cell_type": "code",
   "execution_count": null,
   "metadata": {},
   "outputs": [],
   "source": [
    "#Calling Gmaps key\n",
    "gmaps.configure(api_key= gkey) # Fill in with your API key\n",
    "clean_csv_file_copy = clean_csv_file.copy()\n",
    "\n",
    "#defining rows\n",
    "lat = clean_csv_file_copy['Lat']\n",
    "lng = clean_csv_file_copy['Lng']\n",
    "cat = clean_csv_file_copy['Job Posting ID']\n",
    "\n",
    "#Turning int to float for testing\n",
    "cat = cat.astype('float')"
   ]
  },
  {
   "cell_type": "code",
   "execution_count": null,
   "metadata": {},
   "outputs": [],
   "source": [
    "#Gmaps testing\n",
    "locations = clean_csv_file_copy[['Lat', 'Lng']]\n",
    "fig = gmaps.figure(map_type='TERRAIN')\n",
    "\n",
    "\n",
    "\n",
    "locations_layer = gmaps.symbol_layer(\n",
    "    locations, fill_color='red', stroke_color='green', scale=1\n",
    ")\n",
    "fig = gmaps.figure()\n",
    "fig.add_layer(locations_layer)\n",
    "fig"
   ]
  },
  {
   "cell_type": "code",
   "execution_count": null,
   "metadata": {},
   "outputs": [],
   "source": [
    "#Geting unique values\n",
    "charr = clean_csv_file_copy['Category'].unique()\n",
    "charr"
   ]
  },
  {
   "cell_type": "code",
   "execution_count": null,
   "metadata": {},
   "outputs": [],
   "source": [
    "#categorizing category to display on map layter\n",
    "index_cat = clean_csv_file_copy.set_index(['Category'])\n",
    "cat = index_cat.loc[\"Sales Jobs\"] \n",
    "healthcare = cat[['Lat', 'Lng']]\n",
    "healthcare\n",
    "\n",
    "# for c in range(len(charr)):\n",
    "#     flag = index_cat.loc[c]\n",
    "#     arm = flag[['Lat','Lng']]\n",
    "    \n",
    "clean_csv_file_copy"
   ]
  },
  {
   "cell_type": "code",
   "execution_count": null,
   "metadata": {},
   "outputs": [],
   "source": []
  }
 ],
 "metadata": {
  "kernelspec": {
   "display_name": "Python 3",
   "language": "python",
   "name": "python3"
  },
  "language_info": {
   "codemirror_mode": {
    "name": "ipython",
    "version": 3
   },
   "file_extension": ".py",
   "mimetype": "text/x-python",
   "name": "python",
   "nbconvert_exporter": "python",
   "pygments_lexer": "ipython3",
   "version": "3.7.4"
  }
 },
 "nbformat": 4,
 "nbformat_minor": 2
}
